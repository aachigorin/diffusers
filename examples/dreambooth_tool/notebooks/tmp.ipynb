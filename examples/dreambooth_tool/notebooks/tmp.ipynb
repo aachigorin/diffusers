{
 "cells": [
  {
   "cell_type": "code",
   "execution_count": 2,
   "id": "1354cd74-f1ee-4aab-a439-291a48d00473",
   "metadata": {},
   "outputs": [],
   "source": [
    "import torch\n",
    "torch.backends.cuda.matmul.allow_tf32 = False\n",
    "torch.backends.cudnn.benchmark = True\n",
    "torch.backends.cudnn.deterministic = False\n",
    "torch.backends.cudnn.allow_tf32 = True\n",
    "data = torch.randn([2, 1280, 16, 16], dtype=torch.half, device='cuda', requires_grad=True).to(memory_format=torch.channels_last)\n",
    "net = torch.nn.Conv2d(1280, 1280, kernel_size=[1, 1], padding=[0, 0], stride=[1, 1], dilation=[1, 1], groups=1)\n",
    "net = net.cuda().half().to(memory_format=torch.channels_last)\n",
    "out = net(data)\n",
    "out.backward(torch.randn_like(out))\n",
    "torch.cuda.synchronize()"
   ]
  }
 ],
 "metadata": {
  "kernelspec": {
   "display_name": "dreambooth2_gpu19",
   "language": "python",
   "name": "dreambooth2_gpu19"
  },
  "language_info": {
   "codemirror_mode": {
    "name": "ipython",
    "version": 3
   },
   "file_extension": ".py",
   "mimetype": "text/x-python",
   "name": "python",
   "nbconvert_exporter": "python",
   "pygments_lexer": "ipython3",
   "version": "3.9.15"
  }
 },
 "nbformat": 4,
 "nbformat_minor": 5
}
